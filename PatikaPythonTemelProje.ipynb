{
  "nbformat": 4,
  "nbformat_minor": 0,
  "metadata": {
    "colab": {
      "name": "PatikaPythonTemelProje.ipynb",
      "provenance": [],
      "authorship_tag": "ABX9TyNKyARtANoSl7ZRp5P91wE1"
    },
    "kernelspec": {
      "name": "python3",
      "display_name": "Python 3"
    },
    "language_info": {
      "name": "python"
    }
  },
  "cells": [
    {
      "cell_type": "code",
      "metadata": {
        "colab": {
          "base_uri": "https://localhost:8080/"
        },
        "id": "plnAieCc9kIb",
        "outputId": "9dbaadf7-d465-4cdf-e92b-1a74628e5b85"
      },
      "source": [
        "\"\"\"\n",
        "Bir listeyi düzleştiren (flatten) fonksiyon yazın.\n",
        "Elemanları birden çok katmanlı listtlerden ([[3],2] gibi) oluşabileceği gibi, non-scalar verilerden de oluşabilir.\n",
        "\"\"\"\n",
        "\n",
        "def flatten (l):\n",
        "  sonuc = []\n",
        "  for i in l:\n",
        "    if type(i) is list:\n",
        "      sonuc.extend(flatten(i))\n",
        "    else:\n",
        "      sonuc.append(i)\n",
        "  return sonuc\n",
        "\n",
        "liste = [[1,'a',['cat'],2],[[[3]],'dog'],4,5]\n",
        "print(flatten(liste))"
      ],
      "execution_count": null,
      "outputs": [
        {
          "output_type": "stream",
          "text": [
            "[1, 'a', 'cat', 2, 3, 'dog', 4, 5]\n"
          ],
          "name": "stdout"
        }
      ]
    },
    {
      "cell_type": "code",
      "metadata": {
        "colab": {
          "base_uri": "https://localhost:8080/"
        },
        "id": "XIfI_R9x_Nk3",
        "outputId": "b13fd087-d8bf-4dce-aa41-662475890781"
      },
      "source": [
        "\"\"\"\n",
        "Verilen listenin içindeki elemanları tersine döndüren bir fonksiyon yazın.\n",
        "Eğer listenin içindeki elemanlar da liste içeriyorsa onların elemanlarını da tersine döndürün.\n",
        "\"\"\"\n",
        "def ters(l):\n",
        "  sonuc = []\n",
        "  for i in l:\n",
        "    i = i[::-1]\n",
        "    sonuc.append(i)\n",
        "  sonuc = sonuc[::-1]\n",
        "  return sonuc\n",
        "\n",
        "liste = [[1, 2], [3, 4], [5, 6, 7]]\n",
        "print(ters(liste))"
      ],
      "execution_count": 14,
      "outputs": [
        {
          "output_type": "stream",
          "text": [
            "[[7, 6, 5], [4, 3], [2, 1]]\n"
          ],
          "name": "stdout"
        }
      ]
    },
    {
      "cell_type": "code",
      "metadata": {
        "id": "dZINETzmGFaH"
      },
      "source": [
        ""
      ],
      "execution_count": 8,
      "outputs": []
    }
  ]
}